{
 "cells": [
  {
   "cell_type": "code",
   "execution_count": 2,
   "metadata": {
    "collapsed": false
   },
   "outputs": [
    {
     "data": {
      "text/html": [
       "<style>.container { width:100% !important; }</style>"
      ],
      "text/plain": [
       "<IPython.core.display.HTML object>"
      ]
     },
     "metadata": {},
     "output_type": "display_data"
    },
    {
     "data": {
      "application/javascript": [
       "$.getScript('http://cdnjs.cloudflare.com/ajax/libs/dimple/2.2.0/dimple.latest.min.js')"
      ],
      "text/plain": [
       "<IPython.core.display.Javascript object>"
      ]
     },
     "execution_count": 2,
     "metadata": {},
     "output_type": "execute_result"
    }
   ],
   "source": [
    "%matplotlib inline \n",
    "from IPython.display import HTML, display\n",
    "from cStringIO import StringIO\n",
    "from IPython.display import Javascript\n",
    "import seaborn as sns\n",
    "\n",
    "display(HTML(\"<style>.container { width:100% !important; }</style>\"))\n",
    "\n",
    "#require.config({\n",
    "#  paths: {\n",
    "#      d3: r'http://cdnjs.cloudflare.com/ajax/libs/d3/3.4.8/d3.min.js',\n",
    "#      dimple: r'http://cdnjs.cloudflare.com/ajax/libs/dimple/2.2.0/dimple.latest.min.js'\n",
    "#  }\n",
    "#});\n",
    "\n",
    "Javascript(\"\"\"$.getScript('http://cdnjs.cloudflare.com/ajax/libs/d3/3.4.8/d3.min.js')\"\"\")\n",
    "Javascript(\"\"\"$.getScript('http://cdnjs.cloudflare.com/ajax/libs/dimple/2.2.0/dimple.latest.min.js')\"\"\")"
   ]
  },
  {
   "cell_type": "code",
   "execution_count": 53,
   "metadata": {
    "collapsed": false
   },
   "outputs": [],
   "source": [
    "import pandas as pd \n",
    "import pandas.io.data as web \n",
    "import matplotlib.pyplot as plt \n",
    "from matplotlib import style \n",
    "style.use('ggplot')\n",
    "import json\n",
    "import numpy as np\n",
    "import matplotlib\n",
    "import matplotlib.pyplot as plt \n"
   ]
  },
  {
   "cell_type": "code",
   "execution_count": 4,
   "metadata": {
    "collapsed": false
   },
   "outputs": [],
   "source": [
    "with open('coding_challenge_dataset.json', 'r') as f:\n",
    "    data=f.read().replace('\\n', '')\n",
    "    json_object = json.loads(data)"
   ]
  },
  {
   "cell_type": "code",
   "execution_count": 5,
   "metadata": {
    "collapsed": false
   },
   "outputs": [],
   "source": [
    "data_dict = {\n",
    "    'serial':[],\n",
    "    'email':[],\n",
    "    'livePercent':[],\n",
    "    'elasticity':[],\n",
    "    'deadPercent':[],\n",
    "    'files_input':[],\n",
    "    'files_output':[],\n",
    "    'pressure_extruder1':[],     \n",
    "    'pressure_extruder2':[],   \n",
    "    'crosslinking_cl_enabled':[],\n",
    "    'crosslinking_cl_duration':[],\n",
    "    'crosslinking_cl_intensity':[],\n",
    "    'resolution_layerNum':[],\n",
    "    'resolution_layerHeight':[],\n",
    "    'wellplate':[]\n",
    "\n",
    "}\n",
    "for d in json_object:\n",
    "    data_dict['serial'].append(d['user_info']['serial'])\n",
    "    data_dict['email'].append(d['user_info']['email'])\n",
    "    data_dict['livePercent'].append(d['print_data']['livePercent'])\n",
    "    data_dict['elasticity'].append(d['print_data']['elasticity'])\n",
    "    data_dict['deadPercent'].append(d['print_data']['deadPercent'])\n",
    "    data_dict['files_input'].append(d['print_info']['files']['input'])\n",
    "    data_dict['files_output'].append(d['print_info']['files']['output'])\n",
    "    data_dict['pressure_extruder1'].append(d['print_info']['pressure']['extruder1'])\n",
    "    data_dict['pressure_extruder2'].append(d['print_info']['pressure']['extruder2'])\n",
    "    data_dict['crosslinking_cl_enabled'].append(d['print_info']['crosslinking']['cl_enabled'])\n",
    "    data_dict['crosslinking_cl_duration'].append(d['print_info']['crosslinking']['cl_duration'])\n",
    "    data_dict['crosslinking_cl_intensity'].append(d['print_info']['crosslinking']['cl_intensity'])\n",
    "    data_dict['resolution_layerNum'].append(d['print_info']['resolution']['layerNum'])\n",
    "    data_dict['resolution_layerHeight'].append(d['print_info']['resolution']['layerHeight'])\n",
    "    data_dict['wellplate'].append(d['print_info']['wellplate'])\n",
    "  "
   ]
  },
  {
   "cell_type": "code",
   "execution_count": 6,
   "metadata": {
    "collapsed": false
   },
   "outputs": [],
   "source": [
    "df = pd.DataFrame(data_dict)"
   ]
  },
  {
   "cell_type": "code",
   "execution_count": 52,
   "metadata": {
    "collapsed": false
   },
   "outputs": [],
   "source": [
    "lookup_test = df.crosslinking_cl_duration.value_counts(normalize = False)"
   ]
  },
  {
   "cell_type": "code",
   "execution_count": 13,
   "metadata": {
    "collapsed": false
   },
   "outputs": [
    {
     "data": {
      "text/html": [
       "<h2>crosslinking_cl_duration</h2>"
      ],
      "text/plain": [
       "<IPython.core.display.HTML object>"
      ]
     },
     "metadata": {},
     "output_type": "display_data"
    },
    {
     "data": {
      "image/png": "[encoded data removed]",
      "text/plain": [
       "<matplotlib.figure.Figure at 0xe045d68>"
      ]
     },
     "metadata": {},
     "output_type": "display_data"
    }
   ],
   "source": [
    "display(HTML(\"<h2>crosslinking_cl_duration</h2>\"))\n",
    "plt.hist(df.crosslinking_cl_duration, bins = 30);"
   ]
  },
  {
   "cell_type": "code",
   "execution_count": 48,
   "metadata": {
    "collapsed": false
   },
   "outputs": [
    {
     "data": {
      "text/plain": [
       "4638"
      ]
     },
     "execution_count": 48,
     "metadata": {},
     "output_type": "execute_result"
    }
   ],
   "source": [
    "len(df.crosslinking_cl_duration.value_counts(normalize = False))"
   ]
  },
  {
   "cell_type": "code",
   "execution_count": 16,
   "metadata": {
    "collapsed": false
   },
   "outputs": [
    {
     "data": {
      "image/png": "[encoded data removed]",
      "text/plain": [
       "<matplotlib.figure.Figure at 0xe77d1d0>"
      ]
     },
     "metadata": {},
     "output_type": "display_data"
    }
   ],
   "source": [
    "sns.kdeplot(df.crosslinking_cl_duration, shade=True);"
   ]
  },
  {
   "cell_type": "code",
   "execution_count": 44,
   "metadata": {
    "collapsed": false
   },
   "outputs": [
    {
     "data": {
      "text/html": [
       "<h2>crosslinking_cl_intensity</h2>"
      ],
      "text/plain": [
       "<IPython.core.display.HTML object>"
      ]
     },
     "metadata": {},
     "output_type": "display_data"
    },
    {
     "data": {
      "image/png": "[encoded data removed]",
      "text/plain": [
       "<matplotlib.figure.Figure at 0xf1e40b8>"
      ]
     },
     "metadata": {},
     "output_type": "display_data"
    }
   ],
   "source": [
    "display(HTML(\"<h2>crosslinking_cl_intensity</h2>\"))\n",
    "plt.hist(df.crosslinking_cl_intensity, bins = 100);\n",
    "#plt.boxplot(df.crosslinking_cl_intensity);"
   ]
  },
  {
   "cell_type": "code",
   "execution_count": 20,
   "metadata": {
    "collapsed": false
   },
   "outputs": [
    {
     "data": {
      "image/png": "[encoded data removed]",
      "text/plain": [
       "<matplotlib.figure.Figure at 0xe5d8390>"
      ]
     },
     "metadata": {},
     "output_type": "display_data"
    }
   ],
   "source": [
    "sns.kdeplot(df.crosslinking_cl_intensity, shade=True);"
   ]
  },
  {
   "cell_type": "code",
   "execution_count": 47,
   "metadata": {
    "collapsed": false
   },
   "outputs": [
    {
     "data": {
      "text/plain": [
       "100"
      ]
     },
     "execution_count": 47,
     "metadata": {},
     "output_type": "execute_result"
    }
   ],
   "source": [
    "len(df.crosslinking_cl_intensity.value_counts(normalize = False))"
   ]
  },
  {
   "cell_type": "code",
   "execution_count": 117,
   "metadata": {
    "collapsed": false
   },
   "outputs": [
    {
     "data": {
      "text/html": [
       "<h2>deadPercent</h2>"
      ],
      "text/plain": [
       "<IPython.core.display.HTML object>"
      ]
     },
     "metadata": {},
     "output_type": "display_data"
    },
    {
     "data": {
      "image/png": "[encoded data removed]",
      "text/plain": [
       "<matplotlib.figure.Figure at 0x160caa58>"
      ]
     },
     "metadata": {},
     "output_type": "display_data"
    }
   ],
   "source": [
    "display(HTML(\"<h2>deadPercent</h2>\"))\n",
    "plt.hist(df.deadPercent, bins = 100);"
   ]
  },
  {
   "cell_type": "code",
   "execution_count": 46,
   "metadata": {
    "collapsed": false
   },
   "outputs": [
    {
     "data": {
      "text/plain": [
       "5567"
      ]
     },
     "execution_count": 46,
     "metadata": {},
     "output_type": "execute_result"
    }
   ],
   "source": [
    "len(df.deadPercent.value_counts(normalize = False))"
   ]
  },
  {
   "cell_type": "code",
   "execution_count": 21,
   "metadata": {
    "collapsed": false
   },
   "outputs": [
    {
     "data": {
      "image/png": "[encoded data removed]",
      "text/plain": [
       "<matplotlib.figure.Figure at 0xeaa5940>"
      ]
     },
     "metadata": {},
     "output_type": "display_data"
    }
   ],
   "source": [
    "sns.kdeplot(df.deadPercent, shade = True);"
   ]
  },
  {
   "cell_type": "code",
   "execution_count": 118,
   "metadata": {
    "collapsed": false
   },
   "outputs": [
    {
     "data": {
      "text/html": [
       "<h2>elasticity</h2>"
      ],
      "text/plain": [
       "<IPython.core.display.HTML object>"
      ]
     },
     "metadata": {},
     "output_type": "display_data"
    },
    {
     "data": {
      "image/png": "[encoded data removed]",
      "text/plain": [
       "<matplotlib.figure.Figure at 0x163a4400>"
      ]
     },
     "metadata": {},
     "output_type": "display_data"
    }
   ],
   "source": [
    "display(HTML(\"<h2>elasticity</h2>\"))\n",
    "plt.hist(df.elasticity, bins = 100);"
   ]
  },
  {
   "cell_type": "code",
   "execution_count": 45,
   "metadata": {
    "collapsed": false
   },
   "outputs": [
    {
     "data": {
      "text/plain": [
       "5798"
      ]
     },
     "execution_count": 45,
     "metadata": {},
     "output_type": "execute_result"
    }
   ],
   "source": [
    "len(df.elasticity.value_counts(normalize = False))"
   ]
  },
  {
   "cell_type": "code",
   "execution_count": 22,
   "metadata": {
    "collapsed": false
   },
   "outputs": [
    {
     "data": {
      "image/png": "[encoded data removed]",
      "text/plain": [
       "<matplotlib.figure.Figure at 0xdee4160>"
      ]
     },
     "metadata": {},
     "output_type": "display_data"
    }
   ],
   "source": [
    "sns.kdeplot(df.elasticity, shade=True);"
   ]
  },
  {
   "cell_type": "code",
   "execution_count": 119,
   "metadata": {
    "collapsed": false
   },
   "outputs": [
    {
     "data": {
      "text/html": [
       "<h2>livePercent</h2>"
      ],
      "text/plain": [
       "<IPython.core.display.HTML object>"
      ]
     },
     "metadata": {},
     "output_type": "display_data"
    },
    {
     "data": {
      "image/png": "[encoded data removed]",
      "text/plain": [
       "<matplotlib.figure.Figure at 0x164433c8>"
      ]
     },
     "metadata": {},
     "output_type": "display_data"
    }
   ],
   "source": [
    "display(HTML(\"<h2>livePercent</h2>\"))\n",
    "plt.hist(df.livePercent, bins = 100);"
   ]
  },
  {
   "cell_type": "code",
   "execution_count": 43,
   "metadata": {
    "collapsed": false
   },
   "outputs": [
    {
     "data": {
      "text/plain": [
       "5713"
      ]
     },
     "execution_count": 43,
     "metadata": {},
     "output_type": "execute_result"
    }
   ],
   "source": [
    "len(df.livePercent.value_counts(normalize = False))"
   ]
  },
  {
   "cell_type": "code",
   "execution_count": 120,
   "metadata": {
    "collapsed": false
   },
   "outputs": [
    {
     "data": {
      "text/html": [
       "<h2>pressure_extruder1</h2>"
      ],
      "text/plain": [
       "<IPython.core.display.HTML object>"
      ]
     },
     "metadata": {},
     "output_type": "display_data"
    },
    {
     "data": {
      "image/png": "[encoded data removed]",
      "text/plain": [
       "<matplotlib.figure.Figure at 0x175551d0>"
      ]
     },
     "metadata": {},
     "output_type": "display_data"
    }
   ],
   "source": [
    "display(HTML(\"<h2>pressure_extruder1</h2>\"))\n",
    "plt.hist(df.pressure_extruder1, bins = 100);"
   ]
  },
  {
   "cell_type": "code",
   "execution_count": 23,
   "metadata": {
    "collapsed": false
   },
   "outputs": [
    {
     "data": {
      "image/png": "[encoded data removed]",
      "text/plain": [
       "<matplotlib.figure.Figure at 0xdf609b0>"
      ]
     },
     "metadata": {},
     "output_type": "display_data"
    }
   ],
   "source": [
    "sns.kdeplot(df.pressure_extruder1, shade=True);"
   ]
  },
  {
   "cell_type": "code",
   "execution_count": 42,
   "metadata": {
    "collapsed": false
   },
   "outputs": [
    {
     "data": {
      "text/plain": [
       "119"
      ]
     },
     "execution_count": 42,
     "metadata": {},
     "output_type": "execute_result"
    }
   ],
   "source": [
    "len(df.pressure_extruder1.value_counts(normalize = True))"
   ]
  },
  {
   "cell_type": "code",
   "execution_count": 121,
   "metadata": {
    "collapsed": false
   },
   "outputs": [
    {
     "data": {
      "text/html": [
       "<h2>pressure_extruder2</h2>"
      ],
      "text/plain": [
       "<IPython.core.display.HTML object>"
      ]
     },
     "metadata": {},
     "output_type": "display_data"
    },
    {
     "data": {
      "image/png": "[encoded data removed]",
      "text/plain": [
       "<matplotlib.figure.Figure at 0x17b21ef0>"
      ]
     },
     "metadata": {},
     "output_type": "display_data"
    }
   ],
   "source": [
    "display(HTML(\"<h2>pressure_extruder2</h2>\"))\n",
    "plt.hist(df.pressure_extruder2, bins = 100);"
   ]
  },
  {
   "cell_type": "code",
   "execution_count": 24,
   "metadata": {
    "collapsed": false
   },
   "outputs": [
    {
     "data": {
      "image/png": "[encoded data removed]",
      "text/plain": [
       "<matplotlib.figure.Figure at 0xeb70eb8>"
      ]
     },
     "metadata": {},
     "output_type": "display_data"
    }
   ],
   "source": [
    "sns.kdeplot(df.pressure_extruder2, shade=True);"
   ]
  },
  {
   "cell_type": "code",
   "execution_count": 41,
   "metadata": {
    "collapsed": false
   },
   "outputs": [
    {
     "data": {
      "text/plain": [
       "119"
      ]
     },
     "execution_count": 41,
     "metadata": {},
     "output_type": "execute_result"
    }
   ],
   "source": [
    "len(df.pressure_extruder2.value_counts(normalize = True))"
   ]
  },
  {
   "cell_type": "code",
   "execution_count": 122,
   "metadata": {
    "collapsed": false
   },
   "outputs": [
    {
     "data": {
      "text/html": [
       "<h2>resolution_layerHeight</h2>"
      ],
      "text/plain": [
       "<IPython.core.display.HTML object>"
      ]
     },
     "metadata": {},
     "output_type": "display_data"
    },
    {
     "data": {
      "image/png": "[encoded data removed]",
      "text/plain": [
       "<matplotlib.figure.Figure at 0x1763acf8>"
      ]
     },
     "metadata": {},
     "output_type": "display_data"
    }
   ],
   "source": [
    "display(HTML(\"<h2>resolution_layerHeight</h2>\"))\n",
    "plt.hist(df.resolution_layerHeight, bins = 100);"
   ]
  },
  {
   "cell_type": "code",
   "execution_count": 25,
   "metadata": {
    "collapsed": false
   },
   "outputs": [
    {
     "data": {
      "image/png": "[encoded data removed]",
      "text/plain": [
       "<matplotlib.figure.Figure at 0xee6bd68>"
      ]
     },
     "metadata": {},
     "output_type": "display_data"
    }
   ],
   "source": [
    "sns.kdeplot(df.resolution_layerHeight, shade=True);"
   ]
  },
  {
   "cell_type": "code",
   "execution_count": 38,
   "metadata": {
    "collapsed": false
   },
   "outputs": [
    {
     "data": {
      "text/plain": [
       "9"
      ]
     },
     "execution_count": 38,
     "metadata": {},
     "output_type": "execute_result"
    }
   ],
   "source": [
    "len(df.resolution_layerHeight.value_counts(normalize = True))"
   ]
  },
  {
   "cell_type": "code",
   "execution_count": 115,
   "metadata": {
    "collapsed": false
   },
   "outputs": [
    {
     "data": {
      "text/html": [
       "<h2>resolution_layerNum</h2>"
      ],
      "text/plain": [
       "<IPython.core.display.HTML object>"
      ]
     },
     "metadata": {},
     "output_type": "display_data"
    },
    {
     "data": {
      "image/png": "[encoded data removed]",
      "text/plain": [
       "<matplotlib.figure.Figure at 0x15c42fd0>"
      ]
     },
     "metadata": {},
     "output_type": "display_data"
    }
   ],
   "source": [
    "display(HTML(\"<h2>resolution_layerNum</h2>\"))\n",
    "plt.hist(df.resolution_layerNum, bins = 100);"
   ]
  },
  {
   "cell_type": "code",
   "execution_count": 40,
   "metadata": {
    "collapsed": false
   },
   "outputs": [
    {
     "data": {
      "text/plain": [
       "49"
      ]
     },
     "execution_count": 40,
     "metadata": {},
     "output_type": "execute_result"
    }
   ],
   "source": [
    "len(df.resolution_layerNum.value_counts(normalize = True))"
   ]
  },
  {
   "cell_type": "code",
   "execution_count": 27,
   "metadata": {
    "collapsed": false
   },
   "outputs": [
    {
     "data": {
      "image/png": "[encoded data removed]",
      "text/plain": [
       "<matplotlib.figure.Figure at 0xef5a0f0>"
      ]
     },
     "metadata": {},
     "output_type": "display_data"
    }
   ],
   "source": [
    "sns.kdeplot(df.resolution_layerNum, shade=True);"
   ]
  },
  {
   "cell_type": "code",
   "execution_count": 123,
   "metadata": {
    "collapsed": false
   },
   "outputs": [
    {
     "data": {
      "text/html": [
       "<h2>wellplate</h2>"
      ],
      "text/plain": [
       "<IPython.core.display.HTML object>"
      ]
     },
     "metadata": {},
     "output_type": "display_data"
    },
    {
     "data": {
      "image/png": "[encoded data removed]",
      "text/plain": [
       "<matplotlib.figure.Figure at 0x17ae6f60>"
      ]
     },
     "metadata": {},
     "output_type": "display_data"
    }
   ],
   "source": [
    "display(HTML(\"<h2>wellplate</h2>\"))\n",
    "plt.hist(df.wellplate, bins = 100);"
   ]
  },
  {
   "cell_type": "code",
   "execution_count": 35,
   "metadata": {
    "collapsed": false
   },
   "outputs": [
    {
     "data": {
      "text/plain": [
       "5"
      ]
     },
     "execution_count": 35,
     "metadata": {},
     "output_type": "execute_result"
    }
   ],
   "source": [
    "len(df.wellplate.value_counts(normalize = False))"
   ]
  },
  {
   "cell_type": "code",
   "execution_count": 49,
   "metadata": {
    "collapsed": false
   },
   "outputs": [
    {
     "data": {
      "text/plain": [
       "6     2044\n",
       "12    2014\n",
       "1     2011\n",
       "96    1972\n",
       "24    1959\n",
       "Name: wellplate, dtype: int64"
      ]
     },
     "execution_count": 49,
     "metadata": {},
     "output_type": "execute_result"
    }
   ],
   "source": [
    "df.wellplate.value_counts(normalize = False)"
   ]
  },
  {
   "cell_type": "code",
   "execution_count": 28,
   "metadata": {
    "collapsed": false
   },
   "outputs": [
    {
     "data": {
      "image/png": "[encoded data removed]",
      "text/plain": [
       "<matplotlib.figure.Figure at 0xef5ab70>"
      ]
     },
     "metadata": {},
     "output_type": "display_data"
    }
   ],
   "source": [
    "sns.kdeplot(df.wellplate, shade=True);"
   ]
  },
  {
   "cell_type": "code",
   "execution_count": 50,
   "metadata": {
    "collapsed": false
   },
   "outputs": [
    {
     "data": {
      "text/html": [
       "<h2>Quick Stats</h2>"
      ],
      "text/plain": [
       "<IPython.core.display.HTML object>"
      ]
     },
     "metadata": {},
     "output_type": "display_data"
    },
    {
     "data": {
      "text/html": [
       "<div>\n",
       "<table border=\"1\" class=\"dataframe\">\n",
       "  <thead>\n",
       "    <tr style=\"text-align: right;\">\n",
       "      <th></th>\n",
       "      <th>crosslinking_cl_duration</th>\n",
       "      <th>crosslinking_cl_intensity</th>\n",
       "      <th>deadPercent</th>\n",
       "      <th>elasticity</th>\n",
       "      <th>email</th>\n",
       "      <th>files_input</th>\n",
       "      <th>files_output</th>\n",
       "      <th>livePercent</th>\n",
       "      <th>pressure_extruder1</th>\n",
       "      <th>pressure_extruder2</th>\n",
       "      <th>resolution_layerHeight</th>\n",
       "      <th>resolution_layerNum</th>\n",
       "      <th>serial</th>\n",
       "      <th>wellplate</th>\n",
       "    </tr>\n",
       "  </thead>\n",
       "  <tbody>\n",
       "    <tr>\n",
       "      <th>count</th>\n",
       "      <td>10000.00000</td>\n",
       "      <td>10000.000000</td>\n",
       "      <td>10000.000000</td>\n",
       "      <td>10000.000000</td>\n",
       "      <td>10000</td>\n",
       "      <td>10000</td>\n",
       "      <td>10000</td>\n",
       "      <td>10000.000000</td>\n",
       "      <td>10000.000000</td>\n",
       "      <td>10000.000000</td>\n",
       "      <td>10000.000000</td>\n",
       "      <td>10000.000000</td>\n",
       "      <td>10000.000000</td>\n",
       "      <td>10000.000000</td>\n",
       "    </tr>\n",
       "    <tr>\n",
       "      <th>unique</th>\n",
       "      <td>NaN</td>\n",
       "      <td>NaN</td>\n",
       "      <td>NaN</td>\n",
       "      <td>NaN</td>\n",
       "      <td>100</td>\n",
       "      <td>100</td>\n",
       "      <td>100</td>\n",
       "      <td>NaN</td>\n",
       "      <td>NaN</td>\n",
       "      <td>NaN</td>\n",
       "      <td>NaN</td>\n",
       "      <td>NaN</td>\n",
       "      <td>NaN</td>\n",
       "      <td>NaN</td>\n",
       "    </tr>\n",
       "    <tr>\n",
       "      <th>top</th>\n",
       "      <td>NaN</td>\n",
       "      <td>NaN</td>\n",
       "      <td>NaN</td>\n",
       "      <td>NaN</td>\n",
       "      <td>user93@gmail.com</td>\n",
       "      <td>file_51.gcode</td>\n",
       "      <td>file_34_output.gcode</td>\n",
       "      <td>NaN</td>\n",
       "      <td>NaN</td>\n",
       "      <td>NaN</td>\n",
       "      <td>NaN</td>\n",
       "      <td>NaN</td>\n",
       "      <td>NaN</td>\n",
       "      <td>NaN</td>\n",
       "    </tr>\n",
       "    <tr>\n",
       "      <th>freq</th>\n",
       "      <td>NaN</td>\n",
       "      <td>NaN</td>\n",
       "      <td>NaN</td>\n",
       "      <td>NaN</td>\n",
       "      <td>100</td>\n",
       "      <td>100</td>\n",
       "      <td>100</td>\n",
       "      <td>NaN</td>\n",
       "      <td>NaN</td>\n",
       "      <td>NaN</td>\n",
       "      <td>NaN</td>\n",
       "      <td>NaN</td>\n",
       "      <td>NaN</td>\n",
       "      <td>NaN</td>\n",
       "    </tr>\n",
       "    <tr>\n",
       "      <th>mean</th>\n",
       "      <td>7543.55530</td>\n",
       "      <td>25.490500</td>\n",
       "      <td>34.672524</td>\n",
       "      <td>37.678562</td>\n",
       "      <td>NaN</td>\n",
       "      <td>NaN</td>\n",
       "      <td>NaN</td>\n",
       "      <td>60.478346</td>\n",
       "      <td>59.621500</td>\n",
       "      <td>60.072200</td>\n",
       "      <td>0.502220</td>\n",
       "      <td>25.045300</td>\n",
       "      <td>49.500000</td>\n",
       "      <td>27.477100</td>\n",
       "    </tr>\n",
       "    <tr>\n",
       "      <th>std</th>\n",
       "      <td>9713.74483</td>\n",
       "      <td>32.429713</td>\n",
       "      <td>25.010282</td>\n",
       "      <td>24.856149</td>\n",
       "      <td>NaN</td>\n",
       "      <td>NaN</td>\n",
       "      <td>NaN</td>\n",
       "      <td>24.937274</td>\n",
       "      <td>34.507366</td>\n",
       "      <td>34.240786</td>\n",
       "      <td>0.259869</td>\n",
       "      <td>14.048124</td>\n",
       "      <td>28.867513</td>\n",
       "      <td>34.812711</td>\n",
       "    </tr>\n",
       "    <tr>\n",
       "      <th>min</th>\n",
       "      <td>0.00000</td>\n",
       "      <td>0.000000</td>\n",
       "      <td>0.010000</td>\n",
       "      <td>0.020000</td>\n",
       "      <td>NaN</td>\n",
       "      <td>NaN</td>\n",
       "      <td>NaN</td>\n",
       "      <td>0.000000</td>\n",
       "      <td>1.000000</td>\n",
       "      <td>1.000000</td>\n",
       "      <td>0.100000</td>\n",
       "      <td>1.000000</td>\n",
       "      <td>0.000000</td>\n",
       "      <td>1.000000</td>\n",
       "    </tr>\n",
       "    <tr>\n",
       "      <th>25%</th>\n",
       "      <td>0.00000</td>\n",
       "      <td>0.000000</td>\n",
       "      <td>14.010000</td>\n",
       "      <td>19.307500</td>\n",
       "      <td>NaN</td>\n",
       "      <td>NaN</td>\n",
       "      <td>NaN</td>\n",
       "      <td>43.640000</td>\n",
       "      <td>30.000000</td>\n",
       "      <td>31.000000</td>\n",
       "      <td>0.300000</td>\n",
       "      <td>13.000000</td>\n",
       "      <td>24.750000</td>\n",
       "      <td>6.000000</td>\n",
       "    </tr>\n",
       "    <tr>\n",
       "      <th>50%</th>\n",
       "      <td>237.00000</td>\n",
       "      <td>1.000000</td>\n",
       "      <td>30.150000</td>\n",
       "      <td>34.630000</td>\n",
       "      <td>NaN</td>\n",
       "      <td>NaN</td>\n",
       "      <td>NaN</td>\n",
       "      <td>64.770000</td>\n",
       "      <td>59.000000</td>\n",
       "      <td>60.000000</td>\n",
       "      <td>0.500000</td>\n",
       "      <td>25.000000</td>\n",
       "      <td>49.500000</td>\n",
       "      <td>12.000000</td>\n",
       "    </tr>\n",
       "    <tr>\n",
       "      <th>75%</th>\n",
       "      <td>15187.25000</td>\n",
       "      <td>52.000000</td>\n",
       "      <td>51.312500</td>\n",
       "      <td>48.920000</td>\n",
       "      <td>NaN</td>\n",
       "      <td>NaN</td>\n",
       "      <td>NaN</td>\n",
       "      <td>81.042500</td>\n",
       "      <td>89.000000</td>\n",
       "      <td>90.000000</td>\n",
       "      <td>0.700000</td>\n",
       "      <td>37.000000</td>\n",
       "      <td>74.250000</td>\n",
       "      <td>24.000000</td>\n",
       "    </tr>\n",
       "    <tr>\n",
       "      <th>max</th>\n",
       "      <td>29996.00000</td>\n",
       "      <td>99.000000</td>\n",
       "      <td>100.000000</td>\n",
       "      <td>139.900000</td>\n",
       "      <td>NaN</td>\n",
       "      <td>NaN</td>\n",
       "      <td>NaN</td>\n",
       "      <td>99.690000</td>\n",
       "      <td>119.000000</td>\n",
       "      <td>119.000000</td>\n",
       "      <td>0.900000</td>\n",
       "      <td>49.000000</td>\n",
       "      <td>99.000000</td>\n",
       "      <td>96.000000</td>\n",
       "    </tr>\n",
       "  </tbody>\n",
       "</table>\n",
       "</div>"
      ],
      "text/plain": [
       "        crosslinking_cl_duration  crosslinking_cl_intensity   deadPercent  \\\n",
       "count                10000.00000               10000.000000  10000.000000   \n",
       "unique                       NaN                        NaN           NaN   \n",
       "top                          NaN                        NaN           NaN   \n",
       "freq                         NaN                        NaN           NaN   \n",
       "mean                  7543.55530                  25.490500     34.672524   \n",
       "std                   9713.74483                  32.429713     25.010282   \n",
       "min                      0.00000                   0.000000      0.010000   \n",
       "25%                      0.00000                   0.000000     14.010000   \n",
       "50%                    237.00000                   1.000000     30.150000   \n",
       "75%                  15187.25000                  52.000000     51.312500   \n",
       "max                  29996.00000                  99.000000    100.000000   \n",
       "\n",
       "          elasticity             email    files_input          files_output  \\\n",
       "count   10000.000000             10000          10000                 10000   \n",
       "unique           NaN               100            100                   100   \n",
       "top              NaN  user93@gmail.com  file_51.gcode  file_34_output.gcode   \n",
       "freq             NaN               100            100                   100   \n",
       "mean       37.678562               NaN            NaN                   NaN   \n",
       "std        24.856149               NaN            NaN                   NaN   \n",
       "min         0.020000               NaN            NaN                   NaN   \n",
       "25%        19.307500               NaN            NaN                   NaN   \n",
       "50%        34.630000               NaN            NaN                   NaN   \n",
       "75%        48.920000               NaN            NaN                   NaN   \n",
       "max       139.900000               NaN            NaN                   NaN   \n",
       "\n",
       "         livePercent  pressure_extruder1  pressure_extruder2  \\\n",
       "count   10000.000000        10000.000000        10000.000000   \n",
       "unique           NaN                 NaN                 NaN   \n",
       "top              NaN                 NaN                 NaN   \n",
       "freq             NaN                 NaN                 NaN   \n",
       "mean       60.478346           59.621500           60.072200   \n",
       "std        24.937274           34.507366           34.240786   \n",
       "min         0.000000            1.000000            1.000000   \n",
       "25%        43.640000           30.000000           31.000000   \n",
       "50%        64.770000           59.000000           60.000000   \n",
       "75%        81.042500           89.000000           90.000000   \n",
       "max        99.690000          119.000000          119.000000   \n",
       "\n",
       "        resolution_layerHeight  resolution_layerNum        serial  \\\n",
       "count             10000.000000         10000.000000  10000.000000   \n",
       "unique                     NaN                  NaN           NaN   \n",
       "top                        NaN                  NaN           NaN   \n",
       "freq                       NaN                  NaN           NaN   \n",
       "mean                  0.502220            25.045300     49.500000   \n",
       "std                   0.259869            14.048124     28.867513   \n",
       "min                   0.100000             1.000000      0.000000   \n",
       "25%                   0.300000            13.000000     24.750000   \n",
       "50%                   0.500000            25.000000     49.500000   \n",
       "75%                   0.700000            37.000000     74.250000   \n",
       "max                   0.900000            49.000000     99.000000   \n",
       "\n",
       "           wellplate  \n",
       "count   10000.000000  \n",
       "unique           NaN  \n",
       "top              NaN  \n",
       "freq             NaN  \n",
       "mean       27.477100  \n",
       "std        34.812711  \n",
       "min         1.000000  \n",
       "25%         6.000000  \n",
       "50%        12.000000  \n",
       "75%        24.000000  \n",
       "max        96.000000  "
      ]
     },
     "execution_count": 50,
     "metadata": {},
     "output_type": "execute_result"
    }
   ],
   "source": [
    "display(HTML(\"<h2>Quick Stats</h2>\"))\n",
    "df.describe(include = [np.number,'O'])"
   ]
  },
  {
   "cell_type": "code",
   "execution_count": 51,
   "metadata": {
    "collapsed": true
   },
   "outputs": [],
   "source": [
    "df.describe(include = [np.number,'O']).to_html(open('my_file.html', 'w'))"
   ]
  },
  {
   "cell_type": "code",
   "execution_count": 94,
   "metadata": {
    "collapsed": false
   },
   "outputs": [
    {
     "data": {
      "application/javascript": [
       "element.append(\"<div id='chart1'></div>\");"
      ],
      "text/plain": [
       "<IPython.core.display.Javascript object>"
      ]
     },
     "metadata": {},
     "output_type": "display_data"
    }
   ],
   "source": [
    "%%javascript\n",
    "element.append(\"<div id='chart1'></div>\");"
   ]
  },
  {
   "cell_type": "code",
   "execution_count": 91,
   "metadata": {
    "collapsed": false
   },
   "outputs": [],
   "source": [
    "shared_json = df.head(100).to_json()\n",
    "from IPython.display import HTML"
   ]
  },
  {
   "cell_type": "code",
   "execution_count": 92,
   "metadata": {
    "collapsed": false
   },
   "outputs": [
    {
     "data": {
      "text/html": [
       "\n",
       "<div id=\"g1\" class=\"container\">\n",
       "\n",
       "</div>\n",
       "\n",
       "<script type=\"text/Javascript\">\n",
       "\n",
       "$(document).ready(function(){\n",
       "\n",
       "var command = \"shared_json\";\n",
       "function callback(out_data){\n",
       "    window.df = out_data;\n",
       "    var df_local = df;\n",
       "    df_local = df_local.content.data[\"text/plain\"];\n",
       "    df_local = df_local.substr(1, df_local.length-2);\n",
       "    df_local =  $.parseJSON(df_local);\n",
       "    window.df_json = df_local;\n",
       "    \n",
       "    $('#g1').show();\n",
       "    $('#g1').css(\"background-color\",\"#e0ebeb\");\n",
       "    $('#g1').append( \"<strong>Hello</strong>\" );\n",
       "}\n",
       "var callbacks = { 'iopub' : {'output' : callback}};\n",
       "var kernel = IPython.notebook.kernel;\n",
       "kernel.execute(command, callbacks, {silent:false});\n",
       "\n",
       "});\n",
       "\n",
       "\n",
       "</script>\n"
      ],
      "text/plain": [
       "<IPython.core.display.HTML object>"
      ]
     },
     "execution_count": 92,
     "metadata": {},
     "output_type": "execute_result"
    }
   ],
   "source": [
    "disp_html = \"\"\"\n",
    "<div id=\"g1\" class=\"container\">\n",
    "\n",
    "</div>\n",
    "\"\"\"\n",
    "\n",
    "javascript = \"\"\"\n",
    "<script type=\"text/Javascript\">\n",
    "\n",
    "$(document).ready(function(){\n",
    "\n",
    "var command = \"shared_json\";\n",
    "function callback(out_data){\n",
    "    window.df = out_data;\n",
    "    var df_local = df;\n",
    "    df_local = df_local.content.data[\"text/plain\"];\n",
    "    df_local = df_local.substr(1, df_local.length-2);\n",
    "    df_local =  $.parseJSON(df_local);\n",
    "    window.df_json = df_local;\n",
    "    \n",
    "    $('#g1').show();\n",
    "    $('#g1').css(\"background-color\",\"#e0ebeb\");\n",
    "    $('#g1').append( \"<strong>Hello</strong>\" );\n",
    "}\n",
    "var callbacks = { 'iopub' : {'output' : callback}};\n",
    "var kernel = IPython.notebook.kernel;\n",
    "kernel.execute(command, callbacks, {silent:false});\n",
    "\n",
    "});\n",
    "\n",
    "\n",
    "</script>\n",
    "\"\"\"\n",
    "\n",
    "HTML(disp_html+javascript)"
   ]
  },
  {
   "cell_type": "code",
   "execution_count": 97,
   "metadata": {
    "collapsed": false
   },
   "outputs": [
    {
     "data": {
      "text/html": [
       "\n",
       "<script type=\"text/Javascript\">\n",
       "$(document).ready(function(){\n",
       "    $('#g1').css(\"background-color\",\"#ff6666\");\n",
       "    $('#g1').append( \"<strong>\"+JSON.stringify(df_json)+\"</strong>\" );    \n",
       "});\n",
       "</script>\n"
      ],
      "text/plain": [
       "<IPython.core.display.HTML object>"
      ]
     },
     "execution_count": 97,
     "metadata": {},
     "output_type": "execute_result"
    }
   ],
   "source": [
    "javascript = \"\"\"\n",
    "<script type=\"text/Javascript\">\n",
    "$(document).ready(function(){\n",
    "    $('#g1').css(\"background-color\",\"#ff6666\");\n",
    "    $('#g1').append( \"<strong>\"+JSON.stringify(df_json)+\"</strong>\" );    \n",
    "});\n",
    "</script>\n",
    "\"\"\"\n",
    "HTML(javascript)"
   ]
  }
 ],
 "metadata": {
  "kernelspec": {
   "display_name": "Python 2",
   "language": "python",
   "name": "python2"
  },
  "language_info": {
   "codemirror_mode": {
    "name": "ipython",
    "version": 2
   },
   "file_extension": ".py",
   "mimetype": "text/x-python",
   "name": "python",
   "nbconvert_exporter": "python",
   "pygments_lexer": "ipython2",
   "version": "2.7.12"
  }
 },
 "nbformat": 4,
 "nbformat_minor": 0
}
